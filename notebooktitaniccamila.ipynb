{
 "cells": [
  {
   "cell_type": "code",
   "execution_count": 1,
   "id": "d3f53432",
   "metadata": {
    "_cell_guid": "b1076dfc-b9ad-4769-8c92-a6c4dae69d19",
    "_uuid": "8f2839f25d086af736a60e9eeb907d3b93b6e0e5",
    "execution": {
     "iopub.execute_input": "2025-06-13T12:06:24.519560Z",
     "iopub.status.busy": "2025-06-13T12:06:24.519231Z",
     "iopub.status.idle": "2025-06-13T12:06:29.609632Z",
     "shell.execute_reply": "2025-06-13T12:06:29.608857Z"
    },
    "papermill": {
     "duration": 5.09639,
     "end_time": "2025-06-13T12:06:29.611351",
     "exception": false,
     "start_time": "2025-06-13T12:06:24.514961",
     "status": "completed"
    },
    "tags": []
   },
   "outputs": [],
   "source": [
    "import matplotlib.pyplot as plt\n",
    "import seaborn as sns\n",
    "from sklearn.model_selection import cross_val_score, GridSearchCV\n",
    "from sklearn.preprocessing import StandardScaler\n",
    "from sklearn.metrics import accuracy_score\n",
    "import numpy as np\n",
    "from sklearn.ensemble import RandomForestClassifier\n",
    "from google.colab import drive\n",
    "import pandas as pd\n",
    "from sklearn.impute import SimpleImputer"
   ]
  },
  {
   "cell_type": "code",
   "execution_count": 2,
   "id": "62b3cfd7",
   "metadata": {
    "execution": {
     "iopub.execute_input": "2025-06-13T12:06:29.618336Z",
     "iopub.status.busy": "2025-06-13T12:06:29.617876Z",
     "iopub.status.idle": "2025-06-13T12:06:29.677661Z",
     "shell.execute_reply": "2025-06-13T12:06:29.676784Z"
    },
    "papermill": {
     "duration": 0.06477,
     "end_time": "2025-06-13T12:06:29.679099",
     "exception": false,
     "start_time": "2025-06-13T12:06:29.614329",
     "status": "completed"
    },
    "tags": []
   },
   "outputs": [
    {
     "data": {
      "text/html": [
       "<div>\n",
       "<style scoped>\n",
       "    .dataframe tbody tr th:only-of-type {\n",
       "        vertical-align: middle;\n",
       "    }\n",
       "\n",
       "    .dataframe tbody tr th {\n",
       "        vertical-align: top;\n",
       "    }\n",
       "\n",
       "    .dataframe thead th {\n",
       "        text-align: right;\n",
       "    }\n",
       "</style>\n",
       "<table border=\"1\" class=\"dataframe\">\n",
       "  <thead>\n",
       "    <tr style=\"text-align: right;\">\n",
       "      <th></th>\n",
       "      <th>PassengerId</th>\n",
       "      <th>Survived</th>\n",
       "      <th>Pclass</th>\n",
       "      <th>Name</th>\n",
       "      <th>Sex</th>\n",
       "      <th>Age</th>\n",
       "      <th>SibSp</th>\n",
       "      <th>Parch</th>\n",
       "      <th>Ticket</th>\n",
       "      <th>Fare</th>\n",
       "      <th>Cabin</th>\n",
       "      <th>Embarked</th>\n",
       "    </tr>\n",
       "  </thead>\n",
       "  <tbody>\n",
       "    <tr>\n",
       "      <th>0</th>\n",
       "      <td>1</td>\n",
       "      <td>0</td>\n",
       "      <td>3</td>\n",
       "      <td>Braund, Mr. Owen Harris</td>\n",
       "      <td>male</td>\n",
       "      <td>22.0</td>\n",
       "      <td>1</td>\n",
       "      <td>0</td>\n",
       "      <td>A/5 21171</td>\n",
       "      <td>7.2500</td>\n",
       "      <td>NaN</td>\n",
       "      <td>S</td>\n",
       "    </tr>\n",
       "    <tr>\n",
       "      <th>1</th>\n",
       "      <td>2</td>\n",
       "      <td>1</td>\n",
       "      <td>1</td>\n",
       "      <td>Cumings, Mrs. John Bradley (Florence Briggs Th...</td>\n",
       "      <td>female</td>\n",
       "      <td>38.0</td>\n",
       "      <td>1</td>\n",
       "      <td>0</td>\n",
       "      <td>PC 17599</td>\n",
       "      <td>71.2833</td>\n",
       "      <td>C85</td>\n",
       "      <td>C</td>\n",
       "    </tr>\n",
       "    <tr>\n",
       "      <th>2</th>\n",
       "      <td>3</td>\n",
       "      <td>1</td>\n",
       "      <td>3</td>\n",
       "      <td>Heikkinen, Miss. Laina</td>\n",
       "      <td>female</td>\n",
       "      <td>26.0</td>\n",
       "      <td>0</td>\n",
       "      <td>0</td>\n",
       "      <td>STON/O2. 3101282</td>\n",
       "      <td>7.9250</td>\n",
       "      <td>NaN</td>\n",
       "      <td>S</td>\n",
       "    </tr>\n",
       "    <tr>\n",
       "      <th>3</th>\n",
       "      <td>4</td>\n",
       "      <td>1</td>\n",
       "      <td>1</td>\n",
       "      <td>Futrelle, Mrs. Jacques Heath (Lily May Peel)</td>\n",
       "      <td>female</td>\n",
       "      <td>35.0</td>\n",
       "      <td>1</td>\n",
       "      <td>0</td>\n",
       "      <td>113803</td>\n",
       "      <td>53.1000</td>\n",
       "      <td>C123</td>\n",
       "      <td>S</td>\n",
       "    </tr>\n",
       "    <tr>\n",
       "      <th>4</th>\n",
       "      <td>5</td>\n",
       "      <td>0</td>\n",
       "      <td>3</td>\n",
       "      <td>Allen, Mr. William Henry</td>\n",
       "      <td>male</td>\n",
       "      <td>35.0</td>\n",
       "      <td>0</td>\n",
       "      <td>0</td>\n",
       "      <td>373450</td>\n",
       "      <td>8.0500</td>\n",
       "      <td>NaN</td>\n",
       "      <td>S</td>\n",
       "    </tr>\n",
       "  </tbody>\n",
       "</table>\n",
       "</div>"
      ],
      "text/plain": [
       "   PassengerId  Survived  Pclass  \\\n",
       "0            1         0       3   \n",
       "1            2         1       1   \n",
       "2            3         1       3   \n",
       "3            4         1       1   \n",
       "4            5         0       3   \n",
       "\n",
       "                                                Name     Sex   Age  SibSp  \\\n",
       "0                            Braund, Mr. Owen Harris    male  22.0      1   \n",
       "1  Cumings, Mrs. John Bradley (Florence Briggs Th...  female  38.0      1   \n",
       "2                             Heikkinen, Miss. Laina  female  26.0      0   \n",
       "3       Futrelle, Mrs. Jacques Heath (Lily May Peel)  female  35.0      1   \n",
       "4                           Allen, Mr. William Henry    male  35.0      0   \n",
       "\n",
       "   Parch            Ticket     Fare Cabin Embarked  \n",
       "0      0         A/5 21171   7.2500   NaN        S  \n",
       "1      0          PC 17599  71.2833   C85        C  \n",
       "2      0  STON/O2. 3101282   7.9250   NaN        S  \n",
       "3      0            113803  53.1000  C123        S  \n",
       "4      0            373450   8.0500   NaN        S  "
      ]
     },
     "execution_count": 2,
     "metadata": {},
     "output_type": "execute_result"
    }
   ],
   "source": [
    "train = pd.read_csv('/kaggle/input/documentos-do-titanic/train1.csv')\n",
    "test = pd.read_csv('/kaggle/input/documentos-do-titanic/teste1.csv')\n",
    "train.head()"
   ]
  },
  {
   "cell_type": "code",
   "execution_count": 3,
   "id": "d46c21bd",
   "metadata": {
    "execution": {
     "iopub.execute_input": "2025-06-13T12:06:29.685673Z",
     "iopub.status.busy": "2025-06-13T12:06:29.685362Z",
     "iopub.status.idle": "2025-06-13T12:06:30.321615Z",
     "shell.execute_reply": "2025-06-13T12:06:30.320485Z"
    },
    "papermill": {
     "duration": 0.641396,
     "end_time": "2025-06-13T12:06:30.323313",
     "exception": false,
     "start_time": "2025-06-13T12:06:29.681917",
     "status": "completed"
    },
    "tags": []
   },
   "outputs": [
    {
     "data": {
      "image/png": "[encoded data removed]",
      "text/plain": [
       "<Figure size 600x400 with 1 Axes>"
      ]
     },
     "metadata": {},
     "output_type": "display_data"
    },
    {
     "data": {
      "image/png": "[encoded data removed]",
      "text/plain": [
       "<Figure size 600x400 with 1 Axes>"
      ]
     },
     "metadata": {},
     "output_type": "display_data"
    },
    {
     "data": {
      "image/png": "[encoded data removed]",
      "text/plain": [
       "<Figure size 600x400 with 1 Axes>"
      ]
     },
     "metadata": {},
     "output_type": "display_data"
    },
    {
     "name": "stdout",
     "output_type": "stream",
     "text": [
      "       PassengerId    Survived      Pclass         Age       SibSp  \\\n",
      "count   891.000000  891.000000  891.000000  714.000000  891.000000   \n",
      "mean    446.000000    0.383838    2.308642   29.699118    0.523008   \n",
      "std     257.353842    0.486592    0.836071   14.526497    1.102743   \n",
      "min       1.000000    0.000000    1.000000    0.420000    0.000000   \n",
      "25%     223.500000    0.000000    2.000000   20.125000    0.000000   \n",
      "50%     446.000000    0.000000    3.000000   28.000000    0.000000   \n",
      "75%     668.500000    1.000000    3.000000   38.000000    1.000000   \n",
      "max     891.000000    1.000000    3.000000   80.000000    8.000000   \n",
      "\n",
      "            Parch        Fare  \n",
      "count  891.000000  891.000000  \n",
      "mean     0.381594   32.204208  \n",
      "std      0.806057   49.693429  \n",
      "min      0.000000    0.000000  \n",
      "25%      0.000000    7.910400  \n",
      "50%      0.000000   14.454200  \n",
      "75%      0.000000   31.000000  \n",
      "max      6.000000  512.329200  \n"
     ]
    }
   ],
   "source": [
    "# Distribuição de sobreviventes\n",
    "plt.figure(figsize=(6, 4))\n",
    "sns.countplot(x='Survived', data=train)\n",
    "plt.title('Distribuição de Sobreviventes')\n",
    "plt.xlabel('Sobreviveu (0 = Não, 1 = Sim)')\n",
    "plt.ylabel('Quantidade')\n",
    "plt.tight_layout()\n",
    "plt.show()\n",
    "\n",
    "#Sobrevivência por sexo\n",
    "plt.figure(figsize=(6, 4))\n",
    "sns.countplot(x='Sex', data=train, hue='Survived')\n",
    "plt.title('Sobrevivência por Sexo')\n",
    "plt.xlabel('Sexo')\n",
    "plt.ylabel('Quantidade')\n",
    "plt.legend(title='Sobreviveu')\n",
    "plt.tight_layout()\n",
    "plt.show()\n",
    "\n",
    "#Sobrevivência por classe\n",
    "plt.figure(figsize=(6, 4))\n",
    "sns.countplot(x='Pclass', data=train, hue='Survived')\n",
    "plt.title('Sobrevivência por Classe')\n",
    "plt.xlabel('Classe')\n",
    "plt.ylabel('Quantidade')\n",
    "plt.legend(title='Sobreviveu')\n",
    "plt.tight_layout()\n",
    "plt.show()\n",
    "\n",
    "# Estatísticas descritivas do dataset\n",
    "summary_stats = train.describe()\n",
    "print(summary_stats)\n"
   ]
  },
  {
   "cell_type": "code",
   "execution_count": 4,
   "id": "3e7e147f",
   "metadata": {
    "execution": {
     "iopub.execute_input": "2025-06-13T12:06:30.332903Z",
     "iopub.status.busy": "2025-06-13T12:06:30.332548Z",
     "iopub.status.idle": "2025-06-13T12:06:30.350751Z",
     "shell.execute_reply": "2025-06-13T12:06:30.349846Z"
    },
    "papermill": {
     "duration": 0.024701,
     "end_time": "2025-06-13T12:06:30.352213",
     "exception": false,
     "start_time": "2025-06-13T12:06:30.327512",
     "status": "completed"
    },
    "tags": []
   },
   "outputs": [
    {
     "name": "stdout",
     "output_type": "stream",
     "text": [
      "concluido\n"
     ]
    }
   ],
   "source": [
    "# Preencher valores ausentes\n",
    "missing_fill = {\n",
    "    'Age': lambda df: df['Age'].fillna(df['Age'].median()),\n",
    "    'Embarked': lambda df: df['Embarked'].fillna('S'),\n",
    "    'Fare': lambda df: df['Fare'].fillna(df['Fare'].median())\n",
    "}\n",
    "\n",
    "for col, func in missing_fill.items():\n",
    "    if col in train.columns:\n",
    "        train[col] = func(train)\n",
    "    if col in test.columns:\n",
    "        test[col] = func(test)\n",
    "\n",
    "# Engenharia de atributos\n",
    "def add_features(df):\n",
    "    if {'SibSp', 'Parch'}.issubset(df.columns):\n",
    "        df['FamilySize'] = df['SibSp'] + df['Parch'] + 1\n",
    "    if 'Cabin' in df.columns:\n",
    "        df['Has_Cabin'] = df['Cabin'].notnull().astype(int)\n",
    "    if 'Sex' in df.columns:\n",
    "        df['Sex'] = df['Sex'].map({'male': 0, 'female': 1})\n",
    "    return df\n",
    "\n",
    "train = add_features(train)\n",
    "test = add_features(test)\n",
    "print(\"concluido\")"
   ]
  },
  {
   "cell_type": "code",
   "execution_count": 5,
   "id": "e3c145c9",
   "metadata": {
    "execution": {
     "iopub.execute_input": "2025-06-13T12:06:30.361419Z",
     "iopub.status.busy": "2025-06-13T12:06:30.361079Z",
     "iopub.status.idle": "2025-06-13T12:06:30.375544Z",
     "shell.execute_reply": "2025-06-13T12:06:30.374377Z"
    },
    "papermill": {
     "duration": 0.02079,
     "end_time": "2025-06-13T12:06:30.377027",
     "exception": false,
     "start_time": "2025-06-13T12:06:30.356237",
     "status": "completed"
    },
    "tags": []
   },
   "outputs": [
    {
     "name": "stdout",
     "output_type": "stream",
     "text": [
      "concluido\n"
     ]
    }
   ],
   "source": [
    "# Seleção de features\n",
    "selected_features = [\n",
    "    'Pclass', 'Sex', 'Age', 'SibSp', 'Parch',\n",
    "    'Fare', 'FamilySize', 'Has_Cabin', 'Embarked'\n",
    "]\n",
    "\n",
    "X = train[selected_features].copy()\n",
    "y = train['Survived']\n",
    "\n",
    "# Normalização das colunas numéricas\n",
    "numeric_cols = ['Age', 'Fare']\n",
    "scaler = StandardScaler()\n",
    "X[numeric_cols] = scaler.fit_transform(X[numeric_cols])\n",
    "print(\"concluido\")\n"
   ]
  },
  {
   "cell_type": "code",
   "execution_count": 6,
   "id": "cd677256",
   "metadata": {
    "execution": {
     "iopub.execute_input": "2025-06-13T12:06:30.386201Z",
     "iopub.status.busy": "2025-06-13T12:06:30.385911Z",
     "iopub.status.idle": "2025-06-13T12:06:31.530518Z",
     "shell.execute_reply": "2025-06-13T12:06:31.529484Z"
    },
    "papermill": {
     "duration": 1.151475,
     "end_time": "2025-06-13T12:06:31.532510",
     "exception": false,
     "start_time": "2025-06-13T12:06:30.381035",
     "status": "completed"
    },
    "tags": []
   },
   "outputs": [
    {
     "name": "stdout",
     "output_type": "stream",
     "text": [
      "Acurácia média: 0.8036\n"
     ]
    }
   ],
   "source": [
    "# Preenchimento inicial \n",
    "X_filled = X.fillna({\n",
    "    'Age': X['Age'].median() if 'Age' in X else 0,\n",
    "    'Fare': X['Fare'].median() if 'Fare' in X else 0,\n",
    "    'Embarked': 'S',\n",
    "    'FamilySize': 1,\n",
    "    'Has_Cabin': 0\n",
    "})\n",
    "\n",
    "# Preenche o restante com a moda das colunas\n",
    "X_filled = X_filled.fillna(X_filled.mode().iloc[0])\n",
    "\n",
    "# Codificação\n",
    "X_encoded = pd.get_dummies(X_filled)\n",
    "\n",
    "# Preenchimento final de segurança para eventuais NaNs restantes\n",
    "X_encoded = X_encoded.fillna(0)\n",
    "\n",
    "# Modelo\n",
    "model = RandomForestClassifier(random_state=42)\n",
    "model.fit(X_encoded, y)\n",
    "\n",
    "# Validação cruzada\n",
    "scores = cross_val_score(model, X_encoded, y, cv=5)\n",
    "print(f'Acurácia média: {scores.mean():.4f}')\n"
   ]
  },
  {
   "cell_type": "code",
   "execution_count": 7,
   "id": "3d8b9fb0",
   "metadata": {
    "execution": {
     "iopub.execute_input": "2025-06-13T12:06:31.544104Z",
     "iopub.status.busy": "2025-06-13T12:06:31.543727Z",
     "iopub.status.idle": "2025-06-13T12:06:48.369571Z",
     "shell.execute_reply": "2025-06-13T12:06:48.368504Z"
    },
    "papermill": {
     "duration": 16.833188,
     "end_time": "2025-06-13T12:06:48.371610",
     "exception": false,
     "start_time": "2025-06-13T12:06:31.538422",
     "status": "completed"
    },
    "tags": []
   },
   "outputs": [
    {
     "name": "stdout",
     "output_type": "stream",
     "text": [
      "Fitting 5 folds for each of 24 candidates, totalling 120 fits\n",
      "Melhores parâmetros encontrados: {'max_depth': None, 'min_samples_leaf': 1, 'min_samples_split': 5, 'n_estimators': 200}\n",
      "Melhor acurácia média na validação cruzada: 0.8294\n"
     ]
    }
   ],
   "source": [
    "# Codificação one-hot\n",
    "X_preprocessed = pd.get_dummies(X)\n",
    "\n",
    "# Preenchimento final de NaNs\n",
    "X_preprocessed = X_preprocessed.fillna(0)\n",
    "\n",
    "# Modelo base\n",
    "rf_classifier = RandomForestClassifier(random_state=42)\n",
    "\n",
    "# Hiperparâmetros a serem testados\n",
    "hyperparams = {\n",
    "    'n_estimators': [100, 200],\n",
    "    'max_depth': [None, 10, 20],\n",
    "    'min_samples_split': [2, 5],\n",
    "    'min_samples_leaf': [1, 2]\n",
    "}\n",
    "\n",
    "# Configuração do GridSearchCV\n",
    "grid_search = GridSearchCV(\n",
    "    estimator=rf_classifier,\n",
    "    param_grid=hyperparams,\n",
    "    cv=5,\n",
    "    n_jobs=-1,\n",
    "    verbose=1\n",
    ")\n",
    "\n",
    "# Treinamento com busca de hiperparâmetros\n",
    "grid_search.fit(X_preprocessed, y)\n",
    "\n",
    "# Resultados\n",
    "print(\"Melhores parâmetros encontrados:\", grid_search.best_params_)\n",
    "print(f\"Melhor acurácia média na validação cruzada: {grid_search.best_score_:.4f}\")\n"
   ]
  },
  {
   "cell_type": "code",
   "execution_count": 8,
   "id": "9ade52ab",
   "metadata": {
    "execution": {
     "iopub.execute_input": "2025-06-13T12:06:48.386587Z",
     "iopub.status.busy": "2025-06-13T12:06:48.386244Z",
     "iopub.status.idle": "2025-06-13T12:07:05.517636Z",
     "shell.execute_reply": "2025-06-13T12:07:05.516787Z"
    },
    "papermill": {
     "duration": 17.140561,
     "end_time": "2025-06-13T12:07:05.519088",
     "exception": false,
     "start_time": "2025-06-13T12:06:48.378527",
     "status": "completed"
    },
    "tags": []
   },
   "outputs": [
    {
     "data": {
      "text/html": [
       "<div>\n",
       "<style scoped>\n",
       "    .dataframe tbody tr th:only-of-type {\n",
       "        vertical-align: middle;\n",
       "    }\n",
       "\n",
       "    .dataframe tbody tr th {\n",
       "        vertical-align: top;\n",
       "    }\n",
       "\n",
       "    .dataframe thead th {\n",
       "        text-align: right;\n",
       "    }\n",
       "</style>\n",
       "<table border=\"1\" class=\"dataframe\">\n",
       "  <thead>\n",
       "    <tr style=\"text-align: right;\">\n",
       "      <th></th>\n",
       "      <th>PassengerId</th>\n",
       "      <th>Survived</th>\n",
       "    </tr>\n",
       "  </thead>\n",
       "  <tbody>\n",
       "    <tr>\n",
       "      <th>0</th>\n",
       "      <td>892</td>\n",
       "      <td>0</td>\n",
       "    </tr>\n",
       "    <tr>\n",
       "      <th>1</th>\n",
       "      <td>893</td>\n",
       "      <td>0</td>\n",
       "    </tr>\n",
       "    <tr>\n",
       "      <th>2</th>\n",
       "      <td>894</td>\n",
       "      <td>0</td>\n",
       "    </tr>\n",
       "    <tr>\n",
       "      <th>3</th>\n",
       "      <td>895</td>\n",
       "      <td>0</td>\n",
       "    </tr>\n",
       "    <tr>\n",
       "      <th>4</th>\n",
       "      <td>896</td>\n",
       "      <td>0</td>\n",
       "    </tr>\n",
       "  </tbody>\n",
       "</table>\n",
       "</div>"
      ],
      "text/plain": [
       "   PassengerId  Survived\n",
       "0          892         0\n",
       "1          893         0\n",
       "2          894         0\n",
       "3          895         0\n",
       "4          896         0"
      ]
     },
     "execution_count": 8,
     "metadata": {},
     "output_type": "execute_result"
    }
   ],
   "source": [
    "# Separar variáveis\n",
    "X = train.drop(columns=['Survived', 'PassengerId'])\n",
    "y = train['Survived']\n",
    "X_test = test.drop(columns=['PassengerId'])\n",
    "\n",
    "# One-hot encoding\n",
    "X_train_encoded = pd.get_dummies(X)\n",
    "X_test_encoded = pd.get_dummies(X_test)\n",
    "\n",
    "# Alinhar colunas\n",
    "X_test_encoded = X_test_encoded.reindex(columns=X_train_encoded.columns, fill_value=0)\n",
    "\n",
    "# Converter para float\n",
    "X_train_encoded = X_train_encoded.astype(float)\n",
    "X_test_encoded = X_test_encoded.astype(float)\n",
    "\n",
    "# ❗ Remover colunas com todos os valores ausentes\n",
    "X_train_encoded = X_train_encoded.dropna(axis=1, how='all')\n",
    "X_test_encoded = X_test_encoded[X_train_encoded.columns]\n",
    "\n",
    "# Imputar valores ausentes\n",
    "imputer = SimpleImputer(strategy='median')\n",
    "X_train_imputed = imputer.fit_transform(X_train_encoded)\n",
    "X_test_imputed = imputer.transform(X_test_encoded)\n",
    "\n",
    "# Criar DataFrames novamente\n",
    "X_train_encoded = pd.DataFrame(X_train_imputed, columns=X_train_encoded.columns)\n",
    "X_test_encoded = pd.DataFrame(X_test_imputed, columns=X_train_encoded.columns)\n",
    "\n",
    "# GridSearchCV\n",
    "param_grid = {\n",
    "    'n_estimators': [100, 200],\n",
    "    'max_depth': [5, 10, None]\n",
    "}\n",
    "model = RandomForestClassifier(random_state=42)\n",
    "grid_search = GridSearchCV(model, param_grid, cv=5, scoring='accuracy')\n",
    "grid_search.fit(X_train_encoded, y)\n",
    "\n",
    "# Previsões\n",
    "best_model = grid_search.best_estimator_\n",
    "predictions = best_model.predict(X_test_encoded)\n",
    "\n",
    "# Submissão\n",
    "submission = pd.DataFrame({\n",
    "    'PassengerId': test['PassengerId'],\n",
    "    'Survived': predictions\n",
    "})\n",
    "submission.to_csv('submission.csv', index=False)\n",
    "\n",
    "# Visualizar\n",
    "submission.head()\n"
   ]
  }
 ],
 "metadata": {
  "kaggle": {
   "accelerator": "none",
   "dataSources": [
    {
     "datasetId": 7654858,
     "sourceId": 12154558,
     "sourceType": "datasetVersion"
    }
   ],
   "dockerImageVersionId": 31040,
   "isGpuEnabled": false,
   "isInternetEnabled": false,
   "language": "python",
   "sourceType": "notebook"
  },
  "kernelspec": {
   "display_name": "Python 3",
   "language": "python",
   "name": "python3"
  },
  "language_info": {
   "codemirror_mode": {
    "name": "ipython",
    "version": 3
   },
   "file_extension": ".py",
   "mimetype": "text/x-python",
   "name": "python",
   "nbconvert_exporter": "python",
   "pygments_lexer": "ipython3",
   "version": "3.11.11"
  },
  "papermill": {
   "default_parameters": {},
   "duration": 48.78707,
   "end_time": "2025-06-13T12:07:08.143432",
   "environment_variables": {},
   "exception": null,
   "input_path": "__notebook__.ipynb",
   "output_path": "__notebook__.ipynb",
   "parameters": {},
   "start_time": "2025-06-13T12:06:19.356362",
   "version": "2.6.0"
  }
 },
 "nbformat": 4,
 "nbformat_minor": 5
}
